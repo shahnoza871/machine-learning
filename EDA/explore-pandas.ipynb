{
 "cells": [
  {
   "cell_type": "code",
   "execution_count": 6,
   "id": "f1ec4f9a-afb4-488b-be75-82309c5cfc5b",
   "metadata": {},
   "outputs": [],
   "source": [
    "import pandas as pd\n",
    "from matrplotplib import pyplot as plt \n",
    "df = pd.read_csv(filepath_or_buffer=\"ads.csv\")"
   ]
  },
  {
   "cell_type": "code",
   "execution_count": 7,
   "id": "21b4b5a2-945b-4d80-b555-d1cc3cd7bb32",
   "metadata": {},
   "outputs": [
    {
     "data": {
      "text/plain": [
       "pandas.core.frame.DataFrame"
      ]
     },
     "execution_count": 7,
     "metadata": {},
     "output_type": "execute_result"
    }
   ],
   "source": [
    "type(df) # dataframe is a data type of a table "
   ]
  },
  {
   "cell_type": "code",
   "execution_count": 8,
   "id": "68aa1fe2-8d3d-4cfc-a190-df856befa97c",
   "metadata": {},
   "outputs": [
    {
     "data": {
      "text/html": [
       "<div>\n",
       "<style scoped>\n",
       "    .dataframe tbody tr th:only-of-type {\n",
       "        vertical-align: middle;\n",
       "    }\n",
       "\n",
       "    .dataframe tbody tr th {\n",
       "        vertical-align: top;\n",
       "    }\n",
       "\n",
       "    .dataframe thead th {\n",
       "        text-align: right;\n",
       "    }\n",
       "</style>\n",
       "<table border=\"1\" class=\"dataframe\">\n",
       "  <thead>\n",
       "    <tr style=\"text-align: right;\">\n",
       "      <th></th>\n",
       "      <th>Time</th>\n",
       "      <th>Ads</th>\n",
       "    </tr>\n",
       "  </thead>\n",
       "  <tbody>\n",
       "    <tr>\n",
       "      <th>0</th>\n",
       "      <td>2017-09-13T00:00:00</td>\n",
       "      <td>80115</td>\n",
       "    </tr>\n",
       "    <tr>\n",
       "      <th>1</th>\n",
       "      <td>2017-09-13T01:00:00</td>\n",
       "      <td>79885</td>\n",
       "    </tr>\n",
       "    <tr>\n",
       "      <th>2</th>\n",
       "      <td>2017-09-13T02:00:00</td>\n",
       "      <td>89325</td>\n",
       "    </tr>\n",
       "    <tr>\n",
       "      <th>3</th>\n",
       "      <td>2017-09-13T03:00:00</td>\n",
       "      <td>101930</td>\n",
       "    </tr>\n",
       "    <tr>\n",
       "      <th>4</th>\n",
       "      <td>2017-09-13T04:00:00</td>\n",
       "      <td>121630</td>\n",
       "    </tr>\n",
       "  </tbody>\n",
       "</table>\n",
       "</div>"
      ],
      "text/plain": [
       "                  Time     Ads\n",
       "0  2017-09-13T00:00:00   80115\n",
       "1  2017-09-13T01:00:00   79885\n",
       "2  2017-09-13T02:00:00   89325\n",
       "3  2017-09-13T03:00:00  101930\n",
       "4  2017-09-13T04:00:00  121630"
      ]
     },
     "execution_count": 8,
     "metadata": {},
     "output_type": "execute_result"
    }
   ],
   "source": [
    "df.head() # outputs the table (dataframe)"
   ]
  },
  {
   "cell_type": "code",
   "execution_count": 10,
   "id": "546016c5-2f29-4092-bac4-777eb04647d3",
   "metadata": {},
   "outputs": [
    {
     "data": {
      "text/plain": [
       "pandas.core.series.Series"
      ]
     },
     "execution_count": 10,
     "metadata": {},
     "output_type": "execute_result"
    }
   ],
   "source": [
    "type(df[\"Time\"]) # one column of a table is of Series datatype"
   ]
  },
  {
   "cell_type": "code",
   "execution_count": 45,
   "id": "615efd11-0f3a-4a83-a029-d7cb0395e160",
   "metadata": {},
   "outputs": [
    {
     "data": {
      "text/plain": [
       "0      2017-09-13T00:00:00\n",
       "1      2017-09-13T01:00:00\n",
       "2      2017-09-13T02:00:00\n",
       "3      2017-09-13T03:00:00\n",
       "4      2017-09-13T04:00:00\n",
       "              ...         \n",
       "211    2017-09-21T19:00:00\n",
       "212    2017-09-21T20:00:00\n",
       "213    2017-09-21T21:00:00\n",
       "214    2017-09-21T22:00:00\n",
       "215    2017-09-21T23:00:00\n",
       "Name: Time, Length: 216, dtype: object"
      ]
     },
     "execution_count": 45,
     "metadata": {},
     "output_type": "execute_result"
    }
   ],
   "source": [
    "df[\"Time\"] # Series datatype consists of values of samy datatype and their indexes - analoguous to an array"
   ]
  },
  {
   "cell_type": "code",
   "execution_count": 13,
   "id": "1e31ca5e-0c37-4a90-843a-d84f1c4aef57",
   "metadata": {},
   "outputs": [
    {
     "data": {
      "text/plain": [
       "(216, 2)"
      ]
     },
     "execution_count": 13,
     "metadata": {},
     "output_type": "execute_result"
    }
   ],
   "source": [
    "df.shape # num of rows and num of columns in a table (dataframe) df"
   ]
  },
  {
   "cell_type": "code",
   "execution_count": 15,
   "id": "52ce848b-1863-4586-ae48-f1411782e316",
   "metadata": {},
   "outputs": [
    {
     "data": {
      "text/plain": [
       "<Axes: >"
      ]
     },
     "execution_count": 15,
     "metadata": {},
     "output_type": "execute_result"
    },
    {
     "data": {
      "image/png": "[encoded data removed]",
      "text/plain": [
       "<Figure size 640x480 with 1 Axes>"
      ]
     },
     "metadata": {},
     "output_type": "display_data"
    }
   ],
   "source": [
    "df[\"Ads\"].hist()"
   ]
  },
  {
   "cell_type": "code",
   "execution_count": 16,
   "id": "abb78092-49ca-48bb-ab22-765f38e5aa46",
   "metadata": {},
   "outputs": [
    {
     "data": {
      "text/plain": [
       "array([[<Axes: title={'center': 'Ads'}>]], dtype=object)"
      ]
     },
     "execution_count": 16,
     "metadata": {},
     "output_type": "execute_result"
    },
    {
     "data": {
      "image/png": "[encoded data removed]",
      "text/plain": [
       "<Figure size 640x480 with 1 Axes>"
      ]
     },
     "metadata": {},
     "output_type": "display_data"
    }
   ],
   "source": [
    "df.hist()"
   ]
  },
  {
   "cell_type": "code",
   "execution_count": 18,
   "id": "cd787772-0a79-4b63-a073-d6c4a2a48824",
   "metadata": {},
   "outputs": [
    {
     "data": {
      "text/plain": [
       "np.float64(121974.05092592593)"
      ]
     },
     "execution_count": 18,
     "metadata": {},
     "output_type": "execute_result"
    }
   ],
   "source": [
    "df[\"Ads\"].mean()"
   ]
  },
  {
   "cell_type": "code",
   "execution_count": 22,
   "id": "9e1cd717-f702-4c86-a2bb-1087e4046d82",
   "metadata": {},
   "outputs": [
    {
     "data": {
      "text/plain": [
       "Ads\n",
       "106495    0.009259\n",
       "104185    0.009259\n",
       "98860     0.009259\n",
       "97655     0.009259\n",
       "101930    0.004630\n",
       "            ...   \n",
       "155890    0.004630\n",
       "123395    0.004630\n",
       "103080    0.004630\n",
       "95155     0.004630\n",
       "80285     0.004630\n",
       "Name: proportion, Length: 212, dtype: float64"
      ]
     },
     "execution_count": 22,
     "metadata": {},
     "output_type": "execute_result"
    }
   ],
   "source": [
    "df[\"Ads\"].value_counts(normalize=True)"
   ]
  },
  {
   "cell_type": "code",
   "execution_count": 26,
   "id": "3320c4bb-4795-4524-9d9f-31f7ad9a2a23",
   "metadata": {},
   "outputs": [
    {
     "data": {
      "text/plain": [
       "np.int64(80115)"
      ]
     },
     "execution_count": 26,
     "metadata": {},
     "output_type": "execute_result"
    }
   ],
   "source": [
    "df.iloc[0,1] # returns a values on the row = 0  and column = 1"
   ]
  },
  {
   "cell_type": "code",
   "execution_count": 33,
   "id": "818a787c-bfec-4d1d-86c9-830165f84c4f",
   "metadata": {},
   "outputs": [
    {
     "data": {
      "text/plain": [
       "0"
      ]
     },
     "execution_count": 33,
     "metadata": {},
     "output_type": "execute_result"
    }
   ],
   "source": [
    "sum(df[\"Ads\"] == 500) # sum of all rows with Ads = 500"
   ]
  },
  {
   "cell_type": "code",
   "execution_count": 43,
   "id": "4ba98c70-da4d-44dc-b77b-96b968b63924",
   "metadata": {},
   "outputs": [
    {
     "data": {
      "text/plain": [
       "0      False\n",
       "1      False\n",
       "2      False\n",
       "3      False\n",
       "4      False\n",
       "       ...  \n",
       "211    False\n",
       "212    False\n",
       "213    False\n",
       "214    False\n",
       "215    False\n",
       "Name: Ads, Length: 216, dtype: bool"
      ]
     },
     "execution_count": 43,
     "metadata": {},
     "output_type": "execute_result"
    }
   ],
   "source": [
    "df[\"Ads\"] >= 163000"
   ]
  },
  {
   "cell_type": "code",
   "execution_count": 42,
   "id": "38f7b8ec-3924-4ec3-af42-ab6b1ee22445",
   "metadata": {},
   "outputs": [
    {
     "data": {
      "text/html": [
       "<div>\n",
       "<style scoped>\n",
       "    .dataframe tbody tr th:only-of-type {\n",
       "        vertical-align: middle;\n",
       "    }\n",
       "\n",
       "    .dataframe tbody tr th {\n",
       "        vertical-align: top;\n",
       "    }\n",
       "\n",
       "    .dataframe thead th {\n",
       "        text-align: right;\n",
       "    }\n",
       "</style>\n",
       "<table border=\"1\" class=\"dataframe\">\n",
       "  <thead>\n",
       "    <tr style=\"text-align: right;\">\n",
       "      <th></th>\n",
       "      <th>Time</th>\n",
       "      <th>Ads</th>\n",
       "    </tr>\n",
       "  </thead>\n",
       "  <tbody>\n",
       "    <tr>\n",
       "      <th>18</th>\n",
       "      <td>2017-09-13T18:00:00</td>\n",
       "      <td>163840</td>\n",
       "    </tr>\n",
       "    <tr>\n",
       "      <th>19</th>\n",
       "      <td>2017-09-13T19:00:00</td>\n",
       "      <td>166235</td>\n",
       "    </tr>\n",
       "    <tr>\n",
       "      <th>108</th>\n",
       "      <td>2017-09-17T12:00:00</td>\n",
       "      <td>166335</td>\n",
       "    </tr>\n",
       "    <tr>\n",
       "      <th>109</th>\n",
       "      <td>2017-09-17T13:00:00</td>\n",
       "      <td>166780</td>\n",
       "    </tr>\n",
       "    <tr>\n",
       "      <th>110</th>\n",
       "      <td>2017-09-17T14:00:00</td>\n",
       "      <td>163140</td>\n",
       "    </tr>\n",
       "    <tr>\n",
       "      <th>114</th>\n",
       "      <td>2017-09-17T18:00:00</td>\n",
       "      <td>168345</td>\n",
       "    </tr>\n",
       "    <tr>\n",
       "      <th>115</th>\n",
       "      <td>2017-09-17T19:00:00</td>\n",
       "      <td>169900</td>\n",
       "    </tr>\n",
       "    <tr>\n",
       "      <th>163</th>\n",
       "      <td>2017-09-19T19:00:00</td>\n",
       "      <td>165010</td>\n",
       "    </tr>\n",
       "  </tbody>\n",
       "</table>\n",
       "</div>"
      ],
      "text/plain": [
       "                    Time     Ads\n",
       "18   2017-09-13T18:00:00  163840\n",
       "19   2017-09-13T19:00:00  166235\n",
       "108  2017-09-17T12:00:00  166335\n",
       "109  2017-09-17T13:00:00  166780\n",
       "110  2017-09-17T14:00:00  163140\n",
       "114  2017-09-17T18:00:00  168345\n",
       "115  2017-09-17T19:00:00  169900\n",
       "163  2017-09-19T19:00:00  165010"
      ]
     },
     "execution_count": 42,
     "metadata": {},
     "output_type": "execute_result"
    }
   ],
   "source": [
    "df[df[\"Ads\"]>=163000]"
   ]
  },
  {
   "cell_type": "code",
   "execution_count": 57,
   "id": "45815fc8-b35b-4db3-a642-df6ea799b374",
   "metadata": {},
   "outputs": [
    {
     "data": {
      "text/plain": [
       "0      notmuch\n",
       "1      notmuch\n",
       "2      notmuch\n",
       "3         alot\n",
       "4         alot\n",
       "        ...   \n",
       "211       alot\n",
       "212       alot\n",
       "213       alot\n",
       "214    notmuch\n",
       "215    notmuch\n",
       "Name: Ads, Length: 216, dtype: object"
      ]
     },
     "execution_count": 57,
     "metadata": {},
     "output_type": "execute_result"
    }
   ],
   "source": [
    "def filter(Ads):\n",
    "    return \"alot\" if Ads>100000 else \"notmuch\"\n",
    "\n",
    "df[\"Ads\"].apply(filter) # it takes the vlues at each row of \"Ads\" column and passes it to the function filter"
   ]
  },
  {
   "cell_type": "code",
   "execution_count": 59,
   "id": "08086882-7573-440e-af0b-b26db8d7e62f",
   "metadata": {},
   "outputs": [
    {
     "data": {
      "text/plain": [
       "0      notmuch\n",
       "1      notmuch\n",
       "2      notmuch\n",
       "3         alot\n",
       "4         alot\n",
       "        ...   \n",
       "211       alot\n",
       "212       alot\n",
       "213       alot\n",
       "214    notmuch\n",
       "215    notmuch\n",
       "Name: Ads, Length: 216, dtype: object"
      ]
     },
     "execution_count": 59,
     "metadata": {},
     "output_type": "execute_result"
    }
   ],
   "source": [
    "df[\"Ads\"].apply(lambda ads: \"alot\" if ads>100000 else \"notmuch\") # similarly, takes Ads and passes it to a variable in lambda"
   ]
  },
  {
   "cell_type": "code",
   "execution_count": 66,
   "id": "0b8d8f79-8b68-47c1-b101-5edd19756454",
   "metadata": {},
   "outputs": [
    {
     "name": "stdout",
     "output_type": "stream",
     "text": [
      "(70335,                     Time    Ads\n",
      "192  2017-09-21T00:00:00  70335)\n",
      "(72150,                     Time    Ads\n",
      "193  2017-09-21T01:00:00  72150)\n",
      "(74670,                     Time    Ads\n",
      "145  2017-09-19T01:00:00  74670)\n",
      "(75130,                    Time    Ads\n",
      "49  2017-09-15T01:00:00  75130)\n",
      "(75335,                    Time    Ads\n",
      "25  2017-09-14T01:00:00  75335)\n",
      "(76050,                     Time    Ads\n",
      "191  2017-09-20T23:00:00  76050)\n",
      "(76315,                    Time    Ads\n",
      "48  2017-09-15T00:00:00  76315)\n",
      "(78110,                     Time    Ads\n",
      "169  2017-09-20T01:00:00  78110)\n",
      "(78335,                     Time    Ads\n",
      "144  2017-09-19T00:00:00  78335)\n",
      "(78350,                     Time    Ads\n",
      "121  2017-09-18T01:00:00  78350)\n",
      "(79270,                     Time    Ads\n",
      "167  2017-09-19T23:00:00  79270)\n",
      "(79510,                     Time    Ads\n",
      "120  2017-09-18T00:00:00  79510)\n",
      "(79515,                     Time    Ads\n",
      "143  2017-09-18T23:00:00  79515)\n",
      "(79885,                   Time    Ads\n",
      "1  2017-09-13T01:00:00  79885)\n",
      "(79980,                     Time    Ads\n",
      "168  2017-09-20T00:00:00  79980)\n",
      "(80115,                   Time    Ads\n",
      "0  2017-09-13T00:00:00  80115)\n",
      "(80125,                    Time    Ads\n",
      "24  2017-09-14T00:00:00  80125)\n",
      "(80195,                     Time    Ads\n",
      "194  2017-09-21T02:00:00  80195)\n",
      "(80285,                     Time    Ads\n",
      "215  2017-09-21T23:00:00  80285)\n",
      "(81675,                     Time    Ads\n",
      "119  2017-09-17T23:00:00  81675)\n",
      "(81990,                     Time    Ads\n",
      "146  2017-09-19T02:00:00  81990)\n",
      "(82520,                    Time    Ads\n",
      "23  2017-09-13T23:00:00  82520)\n",
      "(82640,                    Time    Ads\n",
      "50  2017-09-15T02:00:00  82640)\n",
      "(82765,                    Time    Ads\n",
      "47  2017-09-14T23:00:00  82765)\n",
      "(85105,                    Time    Ads\n",
      "26  2017-09-14T02:00:00  85105)\n",
      "(85785,                     Time    Ads\n",
      "170  2017-09-20T02:00:00  85785)\n",
      "(87615,                    Time    Ads\n",
      "71  2017-09-15T23:00:00  87615)\n",
      "(87835,                    Time    Ads\n",
      "72  2017-09-16T00:00:00  87835)\n",
      "(88045,                     Time    Ads\n",
      "122  2017-09-18T02:00:00  88045)\n",
      "(88170,                     Time    Ads\n",
      "190  2017-09-20T22:00:00  88170)\n",
      "(88795,                    Time    Ads\n",
      "51  2017-09-15T03:00:00  88795)\n",
      "(88845,                    Time    Ads\n",
      "73  2017-09-16T01:00:00  88845)\n",
      "(89060,                    Time    Ads\n",
      "96  2017-09-17T00:00:00  89060)\n",
      "(89325,                   Time    Ads\n",
      "2  2017-09-13T02:00:00  89325)\n",
      "(89345,                    Time    Ads\n",
      "97  2017-09-17T01:00:00  89345)\n",
      "(90575,                    Time    Ads\n",
      "98  2017-09-17T02:00:00  90575)\n",
      "(92175,                    Time    Ads\n",
      "46  2017-09-14T22:00:00  92175)\n",
      "(92350,                    Time    Ads\n",
      "74  2017-09-16T02:00:00  92350)\n",
      "(92855,                     Time    Ads\n",
      "166  2017-09-19T22:00:00  92855)\n",
      "(93610,                    Time    Ads\n",
      "95  2017-09-16T23:00:00  93610)\n",
      "(93660,                     Time    Ads\n",
      "152  2017-09-19T08:00:00  93660)\n",
      "(94000,                     Time    Ads\n",
      "151  2017-09-19T07:00:00  94000)\n",
      "(94945,                     Time    Ads\n",
      "195  2017-09-21T03:00:00  94945)\n",
      "(95045,                     Time    Ads\n",
      "142  2017-09-18T22:00:00  95045)\n",
      "(95155,                     Time    Ads\n",
      "214  2017-09-21T22:00:00  95155)\n",
      "(96700,                    Time    Ads\n",
      "94  2017-09-16T22:00:00  96700)\n",
      "(96780,                    Time    Ads\n",
      "22  2017-09-13T22:00:00  96780)\n",
      "(97290,                     Time    Ads\n",
      "199  2017-09-21T07:00:00  97290)\n",
      "(97345,                     Time    Ads\n",
      "118  2017-09-17T22:00:00  97345)\n",
      "(97635,                     Time    Ads\n",
      "176  2017-09-20T08:00:00  97635)\n",
      "(97655,                     Time    Ads\n",
      "127  2017-09-18T07:00:00  97655\n",
      "128  2017-09-18T08:00:00  97655)\n",
      "(97950,                     Time    Ads\n",
      "147  2017-09-19T03:00:00  97950)\n",
      "(98290,                    Time    Ads\n",
      "99  2017-09-17T03:00:00  98290)\n",
      "(98860,                     Time    Ads\n",
      "55   2017-09-15T07:00:00  98860\n",
      "200  2017-09-21T08:00:00  98860)\n",
      "(98880,                     Time    Ads\n",
      "150  2017-09-19T06:00:00  98880)\n",
      "(99440,                     Time    Ads\n",
      "126  2017-09-18T06:00:00  99440)\n",
      "(99790,                     Time    Ads\n",
      "123  2017-09-18T03:00:00  99790)\n",
      "(100010,                     Time     Ads\n",
      "171  2017-09-20T03:00:00  100010)\n",
      "(100200,                    Time     Ads\n",
      "70  2017-09-15T22:00:00  100200)\n",
      "(101360,                     Time     Ads\n",
      "189  2017-09-20T21:00:00  101360)\n",
      "(101440,                     Time     Ads\n",
      "175  2017-09-20T07:00:00  101440)\n",
      "(101930,                   Time     Ads\n",
      "3  2017-09-13T03:00:00  101930)\n",
      "(102080,                    Time     Ads\n",
      "27  2017-09-14T03:00:00  102080)\n",
      "(102240,                    Time     Ads\n",
      "32  2017-09-14T08:00:00  102240)\n",
      "(102475,                    Time     Ads\n",
      "31  2017-09-14T07:00:00  102475)\n",
      "(102565,                     Time     Ads\n",
      "129  2017-09-18T09:00:00  102565)\n",
      "(102795,                   Time     Ads\n",
      "7  2017-09-13T07:00:00  102795)\n",
      "(103080,                     Time     Ads\n",
      "213  2017-09-21T21:00:00  103080)\n",
      "(103815,                    Time     Ads\n",
      "45  2017-09-14T21:00:00  103815)\n",
      "(104185,                     Time     Ads\n",
      "56   2017-09-15T08:00:00  104185\n",
      "153  2017-09-19T09:00:00  104185)\n",
      "(104290,                     Time     Ads\n",
      "174  2017-09-20T06:00:00  104290)\n",
      "(104465,                    Time     Ads\n",
      "75  2017-09-16T03:00:00  104465)\n",
      "(105585,                     Time     Ads\n",
      "165  2017-09-19T21:00:00  105585)\n",
      "(105635,                     Time     Ads\n",
      "201  2017-09-21T09:00:00  105635)\n",
      "(105895,                    Time     Ads\n",
      "21  2017-09-13T21:00:00  105895)\n",
      "(106495,                     Time     Ads\n",
      "6    2017-09-13T06:00:00  106495\n",
      "198  2017-09-21T06:00:00  106495)\n",
      "(107065,                     Time     Ads\n",
      "141  2017-09-18T21:00:00  107065)\n",
      "(108055,                   Time     Ads\n",
      "8  2017-09-13T08:00:00  108055)\n",
      "(108265,                     Time     Ads\n",
      "177  2017-09-20T09:00:00  108265)\n",
      "(108665,                    Time     Ads\n",
      "57  2017-09-15T09:00:00  108665)\n",
      "(109225,                    Time     Ads\n",
      "30  2017-09-14T06:00:00  109225)\n",
      "(110940,                    Time     Ads\n",
      "54  2017-09-15T06:00:00  110940)\n",
      "(111325,                     Time     Ads\n",
      "125  2017-09-18T05:00:00  111325)\n",
      "(112570,                     Time     Ads\n",
      "100  2017-09-17T04:00:00  112570)\n",
      "(112945,                    Time     Ads\n",
      "69  2017-09-15T21:00:00  112945)\n",
      "(112955,                     Time     Ads\n",
      "117  2017-09-17T21:00:00  112955)\n",
      "(113115,                     Time     Ads\n",
      "149  2017-09-19T05:00:00  113115)\n",
      "(113950,                     Time     Ads\n",
      "197  2017-09-21T05:00:00  113950)\n",
      "(114380,                     Time     Ads\n",
      "202  2017-09-21T10:00:00  114380)\n",
      "(115190,                    Time     Ads\n",
      "53  2017-09-15T05:00:00  115190)\n",
      "(115840,                    Time     Ads\n",
      "33  2017-09-14T09:00:00  115840)\n",
      "(115940,                    Time     Ads\n",
      "76  2017-09-16T04:00:00  115940)\n",
      "(116125,                   Time     Ads\n",
      "9  2017-09-13T09:00:00  116125)\n",
      "(116335,                     Time     Ads\n",
      "173  2017-09-20T05:00:00  116335)\n",
      "(116475,                   Time     Ads\n",
      "5  2017-09-13T05:00:00  116475)\n",
      "(117925,                    Time     Ads\n",
      "93  2017-09-16T21:00:00  117925)\n",
      "(118030,                    Time     Ads\n",
      "29  2017-09-14T05:00:00  118030)\n",
      "(118430,                    Time     Ads\n",
      "52  2017-09-15T04:00:00  118430)\n",
      "(119345,                     Time     Ads\n",
      "148  2017-09-19T04:00:00  119345)\n",
      "(119750,                     Time     Ads\n",
      "154  2017-09-19T10:00:00  119750)\n",
      "(119930,                     Time     Ads\n",
      "130  2017-09-18T10:00:00  119930)\n",
      "(121250,                     Time     Ads\n",
      "178  2017-09-20T10:00:00  121250)\n",
      "(121630,                   Time     Ads\n",
      "4  2017-09-13T04:00:00  121630)\n",
      "(121910,                     Time     Ads\n",
      "196  2017-09-21T04:00:00  121910)\n",
      "(123395,                     Time     Ads\n",
      "212  2017-09-21T20:00:00  123395)\n",
      "(123780,                     Time     Ads\n",
      "124  2017-09-18T04:00:00  123780)\n",
      "(123880,                     Time     Ads\n",
      "172  2017-09-20T04:00:00  123880)\n",
      "(123945,                     Time     Ads\n",
      "188  2017-09-20T20:00:00  123945)\n",
      "(125135,                    Time     Ads\n",
      "28  2017-09-14T04:00:00  125135)\n",
      "(125245,                    Time     Ads\n",
      "92  2017-09-16T20:00:00  125245)\n",
      "(126640,                    Time     Ads\n",
      "58  2017-09-15T10:00:00  126640)\n",
      "(128950,                    Time     Ads\n",
      "77  2017-09-16T05:00:00  128950)\n",
      "(129130,                    Time     Ads\n",
      "44  2017-09-14T20:00:00  129130)\n",
      "(129470,                     Time     Ads\n",
      "101  2017-09-17T05:00:00  129470)\n",
      "(130540,                    Time     Ads\n",
      "34  2017-09-14T10:00:00  130540)\n",
      "(131030,                    Time     Ads\n",
      "10  2017-09-13T10:00:00  131030)\n",
      "(131240,                    Time     Ads\n",
      "82  2017-09-16T10:00:00  131240)\n",
      "(132335,                     Time     Ads\n",
      "203  2017-09-21T11:00:00  132335)\n",
      "(133190,                    Time     Ads\n",
      "81  2017-09-16T09:00:00  133190)\n",
      "(134090,                     Time     Ads\n",
      "164  2017-09-19T20:00:00  134090)\n",
      "(134720,                     Time     Ads\n",
      "140  2017-09-18T20:00:00  134720)\n",
      "(135520,                    Time     Ads\n",
      "68  2017-09-15T20:00:00  135520)\n",
      "(135755,                     Time     Ads\n",
      "131  2017-09-18T11:00:00  135755)\n",
      "(135990,                     Time     Ads\n",
      "155  2017-09-19T11:00:00  135990)\n",
      "(138555,                     Time     Ads\n",
      "180  2017-09-20T12:00:00  138555)\n",
      "(139165,                     Time     Ads\n",
      "157  2017-09-19T13:00:00  139165)\n",
      "(139515,                     Time     Ads\n",
      "185  2017-09-20T17:00:00  139515)\n",
      "(139520,                    Time     Ads\n",
      "20  2017-09-13T20:00:00  139520)\n",
      "(140120,                     Time     Ads\n",
      "132  2017-09-18T12:00:00  140120)\n",
      "(140435,                    Time     Ads\n",
      "59  2017-09-15T11:00:00  140435)\n",
      "(140610,                     Time     Ads\n",
      "184  2017-09-20T16:00:00  140610)\n",
      "(140850,                     Time     Ads\n",
      "179  2017-09-20T11:00:00  140850)\n",
      "(140990,                     Time     Ads\n",
      "181  2017-09-20T13:00:00  140990)\n",
      "(141170,                     Time     Ads\n",
      "105  2017-09-17T09:00:00  141170)\n",
      "(141385,                    Time     Ads\n",
      "78  2017-09-16T06:00:00  141385)\n",
      "(141405,                     Time     Ads\n",
      "102  2017-09-17T06:00:00  141405)\n",
      "(141525,                     Time     Ads\n",
      "182  2017-09-20T14:00:00  141525)\n",
      "(141590,                     Time     Ads\n",
      "183  2017-09-20T15:00:00  141590)\n",
      "(141730,                     Time     Ads\n",
      "133  2017-09-18T13:00:00  141730)\n",
      "(141995,                     Time     Ads\n",
      "205  2017-09-21T13:00:00  141995)\n",
      "(142220,                     Time     Ads\n",
      "134  2017-09-18T14:00:00  142220)\n",
      "(142425,                     Time     Ads\n",
      "187  2017-09-20T19:00:00  142425)\n",
      "(142480,                    Time     Ads\n",
      "83  2017-09-16T11:00:00  142480)\n",
      "(142710,                     Time     Ads\n",
      "116  2017-09-17T20:00:00  142710)\n",
      "(142815,                     Time     Ads\n",
      "206  2017-09-21T14:00:00  142815)\n",
      "(143250,                    Time     Ads\n",
      "80  2017-09-16T08:00:00  143250)\n",
      "(144325,                    Time     Ads\n",
      "35  2017-09-14T11:00:00  144325)\n",
      "(144440,                    Time     Ads\n",
      "79  2017-09-16T07:00:00  144440)\n",
      "(144780,                    Time     Ads\n",
      "16  2017-09-13T16:00:00  144780)\n",
      "(144935,                     Time     Ads\n",
      "159  2017-09-19T15:00:00  144935)\n",
      "(145335,                     Time     Ads\n",
      "136  2017-09-18T16:00:00  145335)\n",
      "(145360,                     Time     Ads\n",
      "135  2017-09-18T15:00:00  145360)\n",
      "(145750,                    Time     Ads\n",
      "64  2017-09-15T16:00:00  145750)\n",
      "(146020,                     Time     Ads\n",
      "207  2017-09-21T15:00:00  146020)\n",
      "(146215,                     Time     Ads\n",
      "186  2017-09-20T18:00:00  146215)\n",
      "(146275,                    Time     Ads\n",
      "61  2017-09-15T13:00:00  146275)\n",
      "(146455,                     Time     Ads\n",
      "156  2017-09-19T12:00:00  146455)\n",
      "(146630,                     Time     Ads\n",
      "204  2017-09-21T12:00:00  146630)\n",
      "(146875,                    Time     Ads\n",
      "91  2017-09-16T19:00:00  146875)\n",
      "(147225,                     Time     Ads\n",
      "158  2017-09-19T14:00:00  147225)\n",
      "(147435,                    Time     Ads\n",
      "89  2017-09-16T17:00:00  147435)\n",
      "(147550,                     Time     Ads\n",
      "106  2017-09-17T10:00:00  147550)\n",
      "(147735,                    Time     Ads\n",
      "63  2017-09-15T15:00:00  147735)\n",
      "(148020,                    Time     Ads\n",
      "62  2017-09-15T14:00:00  148020)\n",
      "(148040,                    Time     Ads\n",
      "38  2017-09-14T14:00:00  148040)\n",
      "(148810,                    Time     Ads\n",
      "39  2017-09-14T15:00:00  148810)\n",
      "(148970,                    Time     Ads\n",
      "36  2017-09-14T12:00:00  148970)\n",
      "(149020,                    Time     Ads\n",
      "11  2017-09-13T11:00:00  149020)\n",
      "(149150,                    Time     Ads\n",
      "37  2017-09-14T13:00:00  149150)\n",
      "(149285,                    Time     Ads\n",
      "65  2017-09-15T17:00:00  149285)\n",
      "(149295,                    Time     Ads\n",
      "14  2017-09-13T14:00:00  149295)\n",
      "(149440,                    Time     Ads\n",
      "42  2017-09-14T18:00:00  149440)\n",
      "(149830,                    Time     Ads\n",
      "40  2017-09-14T16:00:00  149830)\n",
      "(150100,                    Time     Ads\n",
      "15  2017-09-13T15:00:00  150100)\n",
      "(150410,                     Time     Ads\n",
      "137  2017-09-18T17:00:00  150410)\n",
      "(150520,                    Time     Ads\n",
      "43  2017-09-14T19:00:00  150520)\n",
      "(150570,                    Time     Ads\n",
      "41  2017-09-14T17:00:00  150570)\n",
      "(150645,                    Time     Ads\n",
      "88  2017-09-16T16:00:00  150645)\n",
      "(150690,                    Time     Ads\n",
      "17  2017-09-13T17:00:00  150690)\n",
      "(150715,                    Time     Ads\n",
      "13  2017-09-13T13:00:00  150715)\n",
      "(151195,                    Time     Ads\n",
      "87  2017-09-16T15:00:00  151195)\n",
      "(151370,                     Time     Ads\n",
      "160  2017-09-19T16:00:00  151370)\n",
      "(151790,                     Time     Ads\n",
      "209  2017-09-21T17:00:00  151790)\n",
      "(152120,                     Time     Ads\n",
      "208  2017-09-21T16:00:00  152120)\n",
      "(152470,                    Time     Ads\n",
      "60  2017-09-15T12:00:00  152470)\n",
      "(152500,                    Time     Ads\n",
      "85  2017-09-16T13:00:00  152500)\n",
      "(152525,                    Time     Ads\n",
      "90  2017-09-16T18:00:00  152525)\n",
      "(152560,                     Time     Ads\n",
      "103  2017-09-17T07:00:00  152560)\n",
      "(152580,                     Time     Ads\n",
      "104  2017-09-17T08:00:00  152580)\n",
      "(153415,                     Time     Ads\n",
      "139  2017-09-18T19:00:00  153415)\n",
      "(153735,                    Time     Ads\n",
      "86  2017-09-16T14:00:00  153735)\n",
      "(155665,                     Time     Ads\n",
      "210  2017-09-21T18:00:00  155665)\n",
      "(155890,                     Time     Ads\n",
      "211  2017-09-21T19:00:00  155890)\n",
      "(156080,                     Time     Ads\n",
      "161  2017-09-19T17:00:00  156080)\n",
      "(157305,                     Time     Ads\n",
      "111  2017-09-17T15:00:00  157305)\n",
      "(157375,                    Time     Ads\n",
      "84  2017-09-16T12:00:00  157375)\n",
      "(157590,                    Time     Ads\n",
      "12  2017-09-13T12:00:00  157590)\n",
      "(159055,                     Time     Ads\n",
      "112  2017-09-17T16:00:00  159055)\n",
      "(159725,                    Time     Ads\n",
      "66  2017-09-15T18:00:00  159725)\n",
      "(160020,                     Time     Ads\n",
      "113  2017-09-17T17:00:00  160020)\n",
      "(161085,                    Time     Ads\n",
      "67  2017-09-15T19:00:00  161085)\n",
      "(161110,                     Time     Ads\n",
      "107  2017-09-17T11:00:00  161110)\n",
      "(161385,                     Time     Ads\n",
      "162  2017-09-19T18:00:00  161385)\n",
      "(161520,                     Time     Ads\n",
      "138  2017-09-18T18:00:00  161520)\n",
      "(163140,                     Time     Ads\n",
      "110  2017-09-17T14:00:00  163140)\n",
      "(163840,                    Time     Ads\n",
      "18  2017-09-13T18:00:00  163840)\n",
      "(165010,                     Time     Ads\n",
      "163  2017-09-19T19:00:00  165010)\n",
      "(166235,                    Time     Ads\n",
      "19  2017-09-13T19:00:00  166235)\n",
      "(166335,                     Time     Ads\n",
      "108  2017-09-17T12:00:00  166335)\n",
      "(166780,                     Time     Ads\n",
      "109  2017-09-17T13:00:00  166780)\n",
      "(168345,                     Time     Ads\n",
      "114  2017-09-17T18:00:00  168345)\n",
      "(169900,                     Time     Ads\n",
      "115  2017-09-17T19:00:00  169900)\n"
     ]
    }
   ],
   "source": [
    "for element in df.groupby(\"Ads\"):\n",
    "    print(element[0])"
   ]
  },
  {
   "cell_type": "code",
   "execution_count": null,
   "id": "4792d33b-5da7-45e1-bbbb-ab226d6bf0ad",
   "metadata": {},
   "outputs": [],
   "source": []
  }
 ],
 "metadata": {
  "kernelspec": {
   "display_name": "Python 3 (ipykernel)",
   "language": "python",
   "name": "python3"
  },
  "language_info": {
   "codemirror_mode": {
    "name": "ipython",
    "version": 3
   },
   "file_extension": ".py",
   "mimetype": "text/x-python",
   "name": "python",
   "nbconvert_exporter": "python",
   "pygments_lexer": "ipython3",
   "version": "3.9.13"
  }
 },
 "nbformat": 4,
 "nbformat_minor": 5
}
