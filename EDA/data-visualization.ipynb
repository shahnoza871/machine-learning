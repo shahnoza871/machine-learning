{
 "cells": [
  {
   "cell_type": "raw",
   "id": "cbd0c1ea-a18a-4e80-8db0-0a65392aa760",
   "metadata": {},
   "source": []
  },
  {
   "cell_type": "code",
   "execution_count": 2,
   "id": "80b3d54a-9807-45fd-8af5-8faa35e5fe00",
   "metadata": {},
   "outputs": [
    {
     "data": {
      "text/html": [
       "<div>\n",
       "<style scoped>\n",
       "    .dataframe tbody tr th:only-of-type {\n",
       "        vertical-align: middle;\n",
       "    }\n",
       "\n",
       "    .dataframe tbody tr th {\n",
       "        vertical-align: top;\n",
       "    }\n",
       "\n",
       "    .dataframe thead th {\n",
       "        text-align: right;\n",
       "    }\n",
       "</style>\n",
       "<table border=\"1\" class=\"dataframe\">\n",
       "  <thead>\n",
       "    <tr style=\"text-align: right;\">\n",
       "      <th></th>\n",
       "      <th>id</th>\n",
       "      <th>age</th>\n",
       "      <th>gender</th>\n",
       "      <th>height</th>\n",
       "      <th>weight</th>\n",
       "      <th>ap_hi</th>\n",
       "      <th>ap_lo</th>\n",
       "      <th>cholesterol</th>\n",
       "      <th>gluc</th>\n",
       "      <th>smoke</th>\n",
       "      <th>alco</th>\n",
       "      <th>active</th>\n",
       "      <th>cardio</th>\n",
       "    </tr>\n",
       "  </thead>\n",
       "  <tbody>\n",
       "    <tr>\n",
       "      <th>0</th>\n",
       "      <td>0</td>\n",
       "      <td>18393</td>\n",
       "      <td>2</td>\n",
       "      <td>168</td>\n",
       "      <td>62.0</td>\n",
       "      <td>110</td>\n",
       "      <td>80</td>\n",
       "      <td>1</td>\n",
       "      <td>1</td>\n",
       "      <td>0</td>\n",
       "      <td>0</td>\n",
       "      <td>1</td>\n",
       "      <td>0</td>\n",
       "    </tr>\n",
       "    <tr>\n",
       "      <th>1</th>\n",
       "      <td>1</td>\n",
       "      <td>20228</td>\n",
       "      <td>1</td>\n",
       "      <td>156</td>\n",
       "      <td>85.0</td>\n",
       "      <td>140</td>\n",
       "      <td>90</td>\n",
       "      <td>3</td>\n",
       "      <td>1</td>\n",
       "      <td>0</td>\n",
       "      <td>0</td>\n",
       "      <td>1</td>\n",
       "      <td>1</td>\n",
       "    </tr>\n",
       "    <tr>\n",
       "      <th>2</th>\n",
       "      <td>2</td>\n",
       "      <td>18857</td>\n",
       "      <td>1</td>\n",
       "      <td>165</td>\n",
       "      <td>64.0</td>\n",
       "      <td>130</td>\n",
       "      <td>70</td>\n",
       "      <td>3</td>\n",
       "      <td>1</td>\n",
       "      <td>0</td>\n",
       "      <td>0</td>\n",
       "      <td>0</td>\n",
       "      <td>1</td>\n",
       "    </tr>\n",
       "    <tr>\n",
       "      <th>3</th>\n",
       "      <td>3</td>\n",
       "      <td>17623</td>\n",
       "      <td>2</td>\n",
       "      <td>169</td>\n",
       "      <td>82.0</td>\n",
       "      <td>150</td>\n",
       "      <td>100</td>\n",
       "      <td>1</td>\n",
       "      <td>1</td>\n",
       "      <td>0</td>\n",
       "      <td>0</td>\n",
       "      <td>1</td>\n",
       "      <td>1</td>\n",
       "    </tr>\n",
       "    <tr>\n",
       "      <th>4</th>\n",
       "      <td>4</td>\n",
       "      <td>17474</td>\n",
       "      <td>1</td>\n",
       "      <td>156</td>\n",
       "      <td>56.0</td>\n",
       "      <td>100</td>\n",
       "      <td>60</td>\n",
       "      <td>1</td>\n",
       "      <td>1</td>\n",
       "      <td>0</td>\n",
       "      <td>0</td>\n",
       "      <td>0</td>\n",
       "      <td>0</td>\n",
       "    </tr>\n",
       "  </tbody>\n",
       "</table>\n",
       "</div>"
      ],
      "text/plain": [
       "   id    age  gender  height  weight  ap_hi  ap_lo  cholesterol  gluc  smoke  \\\n",
       "0   0  18393       2     168    62.0    110     80            1     1      0   \n",
       "1   1  20228       1     156    85.0    140     90            3     1      0   \n",
       "2   2  18857       1     165    64.0    130     70            3     1      0   \n",
       "3   3  17623       2     169    82.0    150    100            1     1      0   \n",
       "4   4  17474       1     156    56.0    100     60            1     1      0   \n",
       "\n",
       "   alco  active  cardio  \n",
       "0     0       1       0  \n",
       "1     0       1       1  \n",
       "2     0       0       1  \n",
       "3     0       1       1  \n",
       "4     0       0       0  "
      ]
     },
     "execution_count": 2,
     "metadata": {},
     "output_type": "execute_result"
    }
   ],
   "source": [
    "import pandas as pd\n",
    "from matplotlib import pyplot as plt\n",
    "\n",
    "df = pd.read_csv(\"mlbootcamp5_train.csv\")\n",
    "df.head()"
   ]
  },
  {
   "cell_type": "code",
   "execution_count": 6,
   "id": "530d1a32-c89e-4681-87d0-4fa4c65b5a62",
   "metadata": {},
   "outputs": [
    {
     "data": {
      "text/plain": [
       "0    1\n",
       "Name: gender, dtype: int64"
      ]
     },
     "execution_count": 6,
     "metadata": {},
     "output_type": "execute_result"
    }
   ],
   "source": [
    "df[\"gender\"].mode()"
   ]
  },
  {
   "cell_type": "code",
   "execution_count": 10,
   "id": "c9a27315-83da-41e5-9360-8bbd4ee0860c",
   "metadata": {},
   "outputs": [
    {
     "data": {
      "text/plain": [
       "gender\n",
       "1    45530\n",
       "2    24470\n",
       "Name: count, dtype: int64"
      ]
     },
     "execution_count": 10,
     "metadata": {},
     "output_type": "execute_result"
    }
   ],
   "source": [
    "df['gender'].value_counts()"
   ]
  },
  {
   "cell_type": "code",
   "execution_count": 12,
   "id": "08d27567-71b0-4fbb-8bac-cc0f873ea2ff",
   "metadata": {},
   "outputs": [
    {
     "data": {
      "text/plain": [
       "<matplotlib.collections.PathCollection at 0x1399ebf7f10>"
      ]
     },
     "execution_count": 12,
     "metadata": {},
     "output_type": "execute_result"
    },
    {
     "data": {
      "image/png": "[encoded data removed]",
      "text/plain": [
       "<Figure size 640x480 with 1 Axes>"
      ]
     },
     "metadata": {},
     "output_type": "display_data"
    }
   ],
   "source": [
    "plt.scatter(x=df['gender'], y=df['height'])"
   ]
  },
  {
   "cell_type": "code",
   "execution_count": 13,
   "id": "4d9d3bfb-cfd8-4ca3-a661-2c32134a8fe0",
   "metadata": {},
   "outputs": [
    {
     "data": {
      "text/plain": [
       "<matplotlib.collections.PathCollection at 0x1399eb71dc0>"
      ]
     },
     "execution_count": 13,
     "metadata": {},
     "output_type": "execute_result"
    },
    {
     "data": {
      "image/png": "[encoded data removed]",
      "text/plain": [
       "<Figure size 640x480 with 1 Axes>"
      ]
     },
     "metadata": {},
     "output_type": "display_data"
    }
   ],
   "source": [
    "plt.scatter(x=df['gender'], y=df['weight'])"
   ]
  },
  {
   "cell_type": "code",
   "execution_count": 17,
   "id": "db8947ea-e758-4033-b0b8-3e7857116d2c",
   "metadata": {},
   "outputs": [
    {
     "data": {
      "text/plain": [
       "(250,\n",
       "         id    age  gender  height  weight  ap_hi  ap_lo  cholesterol  gluc  \\\n",
       " 6486  9223  21220       1     250    86.0    140    100            3     1   \n",
       " \n",
       "       smoke  alco  active  cardio  \n",
       " 6486      0     0       1       1  )"
      ]
     },
     "execution_count": 17,
     "metadata": {},
     "output_type": "execute_result"
    }
   ],
   "source": [
    "max(df[df['gender']==1].groupby('height'))"
   ]
  },
  {
   "cell_type": "code",
   "execution_count": 18,
   "id": "5f164208-dd17-4d38-bc73-469f0f8bf5b8",
   "metadata": {},
   "outputs": [
    {
     "data": {
      "text/plain": [
       "(207,\n",
       "           id    age  gender  height  weight  ap_hi  ap_lo  cholesterol  gluc  \\\n",
       " 21628  30894  19054       2     207    78.0    100     70            1     1   \n",
       " \n",
       "        smoke  alco  active  cardio  \n",
       " 21628      0     1       1       0  )"
      ]
     },
     "execution_count": 18,
     "metadata": {},
     "output_type": "execute_result"
    }
   ],
   "source": [
    "max(df[df['gender']==2].groupby('height'))\n",
    "\n",
    "# hence => 1 stands for female sex, 2 - male sex\n"
   ]
  },
  {
   "cell_type": "code",
   "execution_count": 43,
   "id": "db714b5e-ad29-46c6-b7a6-7101a0513088",
   "metadata": {},
   "outputs": [
    {
     "data": {
      "text/plain": [
       "id     age    gender  height  weight  ap_hi  ap_lo  cholesterol  gluc  smoke  alco  active  cardio\n",
       "99977  18194  1       156     102.0   130    80     1            1     0      1     0       1         1\n",
       "134    17363  1       167     71.0    120    80     2            1     0      1     1       1         1\n",
       "136    18718  1       167     80.0    190    90     2            1     0      1     0       0         1\n",
       "199    18068  1       160     90.0    130    90     1            1     0      1     1       0         1\n",
       "213    16028  1       157     69.0    120    80     1            1     0      1     1       1         1\n",
       "                                                                                                     ..\n",
       "1326   18369  1       167     81.0    120    80     2            1     0      1     1       0         1\n",
       "1348   20959  1       160     65.0    120    80     1            2     0      1     0       1         1\n",
       "1369   19554  1       158     87.0    130    90     1            1     0      1     1       0         1\n",
       "1621   19645  1       155     78.0    126    82     1            1     0      1     1       0         1\n",
       "1626   19931  1       163     73.0    160    80     1            1     0      1     1       1         1\n",
       "Name: count, Length: 1161, dtype: int64"
      ]
     },
     "execution_count": 43,
     "metadata": {},
     "output_type": "execute_result"
    }
   ],
   "source": [
    "# alco[alco[\"gender\"]==1].value_counts()"
   ]
  },
  {
   "cell_type": "code",
   "execution_count": 49,
   "id": "bde85296-f7f4-42e9-b490-eb529775cb72",
   "metadata": {},
   "outputs": [
    {
     "name": "stdout",
     "output_type": "stream",
     "text": [
      "73.64240557626844\n"
     ]
    }
   ],
   "source": [
    "# alco[alco['gender']==2]['id'].value_counts()\n",
    "smoke = df[df['smoke']==1]\n",
    "fem_smoke = len(smoke[smoke['gender']==1]['id'])\n",
    "mal_smoke = len(smoke[smoke['gender']==2]['id'])\n",
    "total_smoke = len(smoke)\n",
    "print((mal_smoke-fem_smoke)*100/total_smoke)\n",
    "# print(mal_smoke*100/total_smoke, fem_smoke*100/total_smoke)"
   ]
  },
  {
   "cell_type": "code",
   "execution_count": 50,
   "id": "1b194437-eca6-4822-9f26-fa48ec76296d",
   "metadata": {},
   "outputs": [
    {
     "data": {
      "text/html": [
       "<div>\n",
       "<style scoped>\n",
       "    .dataframe tbody tr th:only-of-type {\n",
       "        vertical-align: middle;\n",
       "    }\n",
       "\n",
       "    .dataframe tbody tr th {\n",
       "        vertical-align: top;\n",
       "    }\n",
       "\n",
       "    .dataframe thead th {\n",
       "        text-align: right;\n",
       "    }\n",
       "</style>\n",
       "<table border=\"1\" class=\"dataframe\">\n",
       "  <thead>\n",
       "    <tr style=\"text-align: right;\">\n",
       "      <th></th>\n",
       "      <th>id</th>\n",
       "      <th>age</th>\n",
       "      <th>gender</th>\n",
       "      <th>height</th>\n",
       "      <th>weight</th>\n",
       "      <th>ap_hi</th>\n",
       "      <th>ap_lo</th>\n",
       "      <th>cholesterol</th>\n",
       "      <th>gluc</th>\n",
       "      <th>smoke</th>\n",
       "      <th>alco</th>\n",
       "      <th>active</th>\n",
       "      <th>cardio</th>\n",
       "    </tr>\n",
       "  </thead>\n",
       "  <tbody>\n",
       "    <tr>\n",
       "      <th>14</th>\n",
       "      <td>23</td>\n",
       "      <td>14532</td>\n",
       "      <td>2</td>\n",
       "      <td>181</td>\n",
       "      <td>95.0</td>\n",
       "      <td>130</td>\n",
       "      <td>90</td>\n",
       "      <td>1</td>\n",
       "      <td>1</td>\n",
       "      <td>1</td>\n",
       "      <td>1</td>\n",
       "      <td>1</td>\n",
       "      <td>0</td>\n",
       "    </tr>\n",
       "    <tr>\n",
       "      <th>19</th>\n",
       "      <td>29</td>\n",
       "      <td>21755</td>\n",
       "      <td>2</td>\n",
       "      <td>162</td>\n",
       "      <td>56.0</td>\n",
       "      <td>120</td>\n",
       "      <td>70</td>\n",
       "      <td>1</td>\n",
       "      <td>1</td>\n",
       "      <td>1</td>\n",
       "      <td>0</td>\n",
       "      <td>1</td>\n",
       "      <td>0</td>\n",
       "    </tr>\n",
       "    <tr>\n",
       "      <th>38</th>\n",
       "      <td>52</td>\n",
       "      <td>23388</td>\n",
       "      <td>2</td>\n",
       "      <td>162</td>\n",
       "      <td>72.0</td>\n",
       "      <td>130</td>\n",
       "      <td>80</td>\n",
       "      <td>1</td>\n",
       "      <td>1</td>\n",
       "      <td>1</td>\n",
       "      <td>0</td>\n",
       "      <td>1</td>\n",
       "      <td>1</td>\n",
       "    </tr>\n",
       "    <tr>\n",
       "      <th>58</th>\n",
       "      <td>73</td>\n",
       "      <td>15901</td>\n",
       "      <td>2</td>\n",
       "      <td>172</td>\n",
       "      <td>84.0</td>\n",
       "      <td>140</td>\n",
       "      <td>90</td>\n",
       "      <td>1</td>\n",
       "      <td>1</td>\n",
       "      <td>1</td>\n",
       "      <td>0</td>\n",
       "      <td>1</td>\n",
       "      <td>1</td>\n",
       "    </tr>\n",
       "    <tr>\n",
       "      <th>59</th>\n",
       "      <td>74</td>\n",
       "      <td>20431</td>\n",
       "      <td>1</td>\n",
       "      <td>164</td>\n",
       "      <td>64.0</td>\n",
       "      <td>180</td>\n",
       "      <td>90</td>\n",
       "      <td>1</td>\n",
       "      <td>1</td>\n",
       "      <td>1</td>\n",
       "      <td>0</td>\n",
       "      <td>1</td>\n",
       "      <td>1</td>\n",
       "    </tr>\n",
       "    <tr>\n",
       "      <th>...</th>\n",
       "      <td>...</td>\n",
       "      <td>...</td>\n",
       "      <td>...</td>\n",
       "      <td>...</td>\n",
       "      <td>...</td>\n",
       "      <td>...</td>\n",
       "      <td>...</td>\n",
       "      <td>...</td>\n",
       "      <td>...</td>\n",
       "      <td>...</td>\n",
       "      <td>...</td>\n",
       "      <td>...</td>\n",
       "      <td>...</td>\n",
       "    </tr>\n",
       "    <tr>\n",
       "      <th>69950</th>\n",
       "      <td>99933</td>\n",
       "      <td>19137</td>\n",
       "      <td>2</td>\n",
       "      <td>167</td>\n",
       "      <td>74.0</td>\n",
       "      <td>130</td>\n",
       "      <td>80</td>\n",
       "      <td>1</td>\n",
       "      <td>1</td>\n",
       "      <td>1</td>\n",
       "      <td>1</td>\n",
       "      <td>1</td>\n",
       "      <td>0</td>\n",
       "    </tr>\n",
       "    <tr>\n",
       "      <th>69953</th>\n",
       "      <td>99936</td>\n",
       "      <td>17373</td>\n",
       "      <td>2</td>\n",
       "      <td>173</td>\n",
       "      <td>69.0</td>\n",
       "      <td>110</td>\n",
       "      <td>70</td>\n",
       "      <td>1</td>\n",
       "      <td>1</td>\n",
       "      <td>1</td>\n",
       "      <td>1</td>\n",
       "      <td>1</td>\n",
       "      <td>1</td>\n",
       "    </tr>\n",
       "    <tr>\n",
       "      <th>69957</th>\n",
       "      <td>99941</td>\n",
       "      <td>15536</td>\n",
       "      <td>2</td>\n",
       "      <td>166</td>\n",
       "      <td>90.0</td>\n",
       "      <td>120</td>\n",
       "      <td>80</td>\n",
       "      <td>1</td>\n",
       "      <td>1</td>\n",
       "      <td>1</td>\n",
       "      <td>0</td>\n",
       "      <td>1</td>\n",
       "      <td>0</td>\n",
       "    </tr>\n",
       "    <tr>\n",
       "      <th>69970</th>\n",
       "      <td>99958</td>\n",
       "      <td>22572</td>\n",
       "      <td>2</td>\n",
       "      <td>173</td>\n",
       "      <td>103.0</td>\n",
       "      <td>140</td>\n",
       "      <td>80</td>\n",
       "      <td>3</td>\n",
       "      <td>1</td>\n",
       "      <td>1</td>\n",
       "      <td>1</td>\n",
       "      <td>0</td>\n",
       "      <td>1</td>\n",
       "    </tr>\n",
       "    <tr>\n",
       "      <th>69995</th>\n",
       "      <td>99993</td>\n",
       "      <td>19240</td>\n",
       "      <td>2</td>\n",
       "      <td>168</td>\n",
       "      <td>76.0</td>\n",
       "      <td>120</td>\n",
       "      <td>80</td>\n",
       "      <td>1</td>\n",
       "      <td>1</td>\n",
       "      <td>1</td>\n",
       "      <td>0</td>\n",
       "      <td>1</td>\n",
       "      <td>0</td>\n",
       "    </tr>\n",
       "  </tbody>\n",
       "</table>\n",
       "<p>6169 rows × 13 columns</p>\n",
       "</div>"
      ],
      "text/plain": [
       "          id    age  gender  height  weight  ap_hi  ap_lo  cholesterol  gluc  \\\n",
       "14        23  14532       2     181    95.0    130     90            1     1   \n",
       "19        29  21755       2     162    56.0    120     70            1     1   \n",
       "38        52  23388       2     162    72.0    130     80            1     1   \n",
       "58        73  15901       2     172    84.0    140     90            1     1   \n",
       "59        74  20431       1     164    64.0    180     90            1     1   \n",
       "...      ...    ...     ...     ...     ...    ...    ...          ...   ...   \n",
       "69950  99933  19137       2     167    74.0    130     80            1     1   \n",
       "69953  99936  17373       2     173    69.0    110     70            1     1   \n",
       "69957  99941  15536       2     166    90.0    120     80            1     1   \n",
       "69970  99958  22572       2     173   103.0    140     80            3     1   \n",
       "69995  99993  19240       2     168    76.0    120     80            1     1   \n",
       "\n",
       "       smoke  alco  active  cardio  \n",
       "14         1     1       1       0  \n",
       "19         1     0       1       0  \n",
       "38         1     0       1       1  \n",
       "58         1     0       1       1  \n",
       "59         1     0       1       1  \n",
       "...      ...   ...     ...     ...  \n",
       "69950      1     1       1       0  \n",
       "69953      1     1       1       1  \n",
       "69957      1     0       1       0  \n",
       "69970      1     1       0       1  \n",
       "69995      1     0       1       0  \n",
       "\n",
       "[6169 rows x 13 columns]"
      ]
     },
     "execution_count": 50,
     "metadata": {},
     "output_type": "execute_result"
    }
   ],
   "source": [
    "smoke\n",
    "# WHAT THE FUCK"
   ]
  },
  {
   "cell_type": "code",
   "execution_count": 58,
   "id": "39ab2519-f9a1-4897-9de6-499a8646c983",
   "metadata": {},
   "outputs": [
    {
     "name": "stdout",
     "output_type": "stream",
     "text": [
      "20\n"
     ]
    }
   ],
   "source": [
    "total_men = len(df[df['gender']==2])\n",
    "total_women = len(df[df['gender']==1])\n",
    "\n",
    "male_percentage = (mal_smoke / total_men) * 100\n",
    "female_percentage = (fem_smoke / total_women) * 100\n",
    "\n",
    "difference = round(male_percentage - female_percentage)\n",
    "print(difference)"
   ]
  },
  {
   "cell_type": "code",
   "execution_count": 62,
   "id": "0250ba96-7fc1-4e9f-a381-c46a950a279c",
   "metadata": {},
   "outputs": [
    {
     "name": "stdout",
     "output_type": "stream",
     "text": [
      "-597.0\n"
     ]
    }
   ],
   "source": [
    "smokers = df[df['smoke']==1]\n",
    "nonsmokers = df[df['smoke']==0]\n",
    "print(smokers['age'].median() - nonsmokers['age'].median())"
   ]
  },
  {
   "cell_type": "code",
   "execution_count": 71,
   "id": "732c83d8-d823-4507-bf78-4fbbea3227fe",
   "metadata": {},
   "outputs": [
    {
     "name": "stdout",
     "output_type": "stream",
     "text": [
      "19.836012861736336\n"
     ]
    }
   ],
   "source": [
    "withCVD = df[df['cardio']==1]\n",
    "SwithCVD = smokers[smokers['cardio']==1]\n",
    "SwoutCVD = smokers[smokers['cardio']==0]\n",
    "# print((len(SwoutCVD)-len(SwithCVD))/len(smokers))\n",
    "# print(len(SwithCVD)/len(smokers))\n",
    "print(len(smokers)/(len(SwoutCVD)-len(SwithCVD)))\n",
    "\n",
    "# WHAT THE FUCK\n"
   ]
  },
  {
   "cell_type": "code",
   "execution_count": 25,
   "id": "0618711d-3216-403f-a808-f97be374ced8",
   "metadata": {},
   "outputs": [
    {
     "data": {
      "text/plain": [
       "True"
      ]
     },
     "execution_count": 25,
     "metadata": {},
     "output_type": "execute_result"
    }
   ],
   "source": [
    "import pandas as pd\n",
    "from matplotlib import pyplot as plt\n",
    "\n",
    "df = pd.read_csv(\"mlbootcamp5_train.csv\")\n",
    "fem_weight, man_weight = df.groupby('gender')['weight'].mean()\n",
    "fem_height, man_height = df.groupby('gender')['height'].mean()\n",
    "fBMI = fem_weight/(fem_height**2)\n",
    "mBMI = man_weight/(man_height**2)\n",
    "# Women's BMI is on average higher then men's\n",
    "bool(fBMI > mBMI)"
   ]
  },
  {
   "cell_type": "code",
   "execution_count": 29,
   "id": "8ed8e5da-917c-4ca0-9eef-2c90b21ae5eb",
   "metadata": {},
   "outputs": [
    {
     "data": {
      "text/plain": [
       "False"
      ]
     },
     "execution_count": 29,
     "metadata": {},
     "output_type": "execute_result"
    }
   ],
   "source": [
    "hthy_weight, ill_weight = df.groupby('cardio')['weight'].median()\n",
    "hthy_height, ill_height = df.groupby('cardio')['height'].median()\n",
    "\n",
    "hthyBMI = hthy_weight/(hthy_height**2)\n",
    "illBMI = ill_weight/(ill_height**2)\n",
    "\n",
    "# Healthy people have higher median BMI than ill people\n",
    "\n",
    "bool(hthyBMI > illBMI)\n"
   ]
  },
  {
   "cell_type": "code",
   "execution_count": 35,
   "id": "8b3b34bb-c174-4b6c-841c-96831ce9247f",
   "metadata": {},
   "outputs": [
    {
     "data": {
      "text/plain": [
       "np.float64(27.469390249400824)"
      ]
     },
     "execution_count": 35,
     "metadata": {},
     "output_type": "execute_result"
    }
   ],
   "source": [
    "df['weight'].mean() / ((df['height'].mean())**2)*10000"
   ]
  },
  {
   "cell_type": "code",
   "execution_count": null,
   "id": "349973a4-fe4e-4efb-bc9b-e7f9c4f77718",
   "metadata": {},
   "outputs": [],
   "source": []
  },
  {
   "cell_type": "code",
   "execution_count": null,
   "id": "1fabd0d1-9a1d-4653-aad9-f7e45ff4e8e0",
   "metadata": {},
   "outputs": [],
   "source": []
  }
 ],
 "metadata": {
  "kernelspec": {
   "display_name": "Python 3 (ipykernel)",
   "language": "python",
   "name": "python3"
  },
  "language_info": {
   "codemirror_mode": {
    "name": "ipython",
    "version": 3
   },
   "file_extension": ".py",
   "mimetype": "text/x-python",
   "name": "python",
   "nbconvert_exporter": "python",
   "pygments_lexer": "ipython3",
   "version": "3.9.13"
  }
 },
 "nbformat": 4,
 "nbformat_minor": 5
}
